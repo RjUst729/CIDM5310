{
 "cells": [
  {
   "cell_type": "markdown",
   "id": "68f5ce85-39f2-4b84-a4e6-aee36a754f08",
   "metadata": {},
   "source": [
    "Chapter 2 Exercises"
   ]
  }
 ],
 "metadata": {
  "kernelspec": {
   "display_name": "Python 3",
   "language": "python",
   "name": "python3"
  },
  "language_info": {
   "codemirror_mode": {
    "name": "ipython",
    "version": 3
   },
   "file_extension": ".py",
   "mimetype": "text/x-python",
   "name": "python",
   "nbconvert_exporter": "python",
   "pygments_lexer": "ipython3",
   "version": "3.9.5"
  }
 },
 "nbformat": 4,
 "nbformat_minor": 5
}