{
 "cells": [
  {
   "cell_type": "markdown",
   "id": "e2a13afd-2de6-4ac0-b36b-4e86b4fd96d5",
   "metadata": {},
   "source": [
    "#RWJ Chapter 3 Notebook"
   ]
  },
  {
   "cell_type": "code",
   "execution_count": 1,
   "id": "53f44010-cf90-43f9-9b1a-83bc4f0e51fd",
   "metadata": {},
   "outputs": [
    {
     "name": "stdout",
     "output_type": "stream",
     "text": [
      "hello world\n"
     ]
    }
   ],
   "source": [
    "import os\n",
    "print (\"hello world\")\n"
   ]
  }
 ],
 "metadata": {
  "kernelspec": {
   "display_name": "Python 3",
   "language": "python",
   "name": "python3"
  },
  "language_info": {
   "codemirror_mode": {
    "name": "ipython",
    "version": 3
   },
   "file_extension": ".py",
   "mimetype": "text/x-python",
   "name": "python",
   "nbconvert_exporter": "python",
   "pygments_lexer": "ipython3",
   "version": "3.9.5"
  }
 },
 "nbformat": 4,
 "nbformat_minor": 5
}
