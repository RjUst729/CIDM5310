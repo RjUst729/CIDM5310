{
 "cells": [
  {
   "cell_type": "markdown",
   "id": "9c78396d-b040-4c6f-8022-ac757326edfa",
   "metadata": {},
   "source": [
    "#This is the project notebook"
   ]
  },
  {
   "cell_type": "code",
   "execution_count": 1,
   "id": "780847df-5634-41a6-a854-b8e5a524e73e",
   "metadata": {},
   "outputs": [
    {
     "data": {
      "text/plain": [
       "200"
      ]
     },
     "execution_count": 1,
     "metadata": {},
     "output_type": "execute_result"
    }
   ],
   "source": [
    "import datetime as dt\n",
    "import pandas as pd\n",
    "import requests\n",
    "\n",
    "yesterday = dt.date.today() - dt.timedelta(days=1)\n",
    "api = 'https://earthquake.usgs.gov/fdsnws/event/1/query'\n",
    "payload = {\n",
    "    'format': 'geojson',\n",
    "    'starttime': yesterday - dt.timedelta(days=30),\n",
    "    'endtime': yesterday\n",
    "}\n",
    "response = requests.get(api, params=payload)\n",
    "\n",
    "# let's make sure the request was OK\n",
    "response.status_code"
   ]
  },
  {
   "cell_type": "code",
   "execution_count": 2,
   "id": "7d804e97-4d71-4157-9d1a-d266f0f0c808",
   "metadata": {},
   "outputs": [
    {
     "data": {
      "text/plain": [
       "200"
      ]
     },
     "execution_count": 2,
     "metadata": {},
     "output_type": "execute_result"
    }
   ],
   "source": [
    "import datetime as dt\n",
    "import pandas as pd\n",
    "import requests\n",
    "\n",
    "yesterday = dt.date.today() - dt.timedelta(days=1)\n",
    "api = 'https://gis.tempe.gov/arcgis/rest/services/Open_Data/General_Offenses/FeatureServer/1/query'\n",
    "payload = {\n",
    "    'format': 'geojson',\n",
    "    'starttime': yesterday - dt.timedelta(days=30),\n",
    "    'endtime': yesterday\n",
    "}\n",
    "response = requests.get(api, params=payload)\n",
    "\n",
    "# let's make sure the request was OK\n",
    "response.status_code"
   ]
  },
  {
   "cell_type": "code",
   "execution_count": 6,
   "id": "caaf1229-b0f1-444e-8a6b-f18ea283584e",
   "metadata": {},
   "outputs": [
    {
     "data": {
      "text/plain": [
       "200"
      ]
     },
     "execution_count": 6,
     "metadata": {},
     "output_type": "execute_result"
    }
   ],
   "source": [
    "response.status_code"
   ]
  },
  {
   "cell_type": "code",
   "execution_count": null,
   "id": "0c72dfb9-387b-4ac2-895b-1c3ae6d56d11",
   "metadata": {},
   "outputs": [],
   "source": []
  }
 ],
 "metadata": {
  "kernelspec": {
   "display_name": "Python 3",
   "language": "python",
   "name": "python3"
  },
  "language_info": {
   "codemirror_mode": {
    "name": "ipython",
    "version": 3
   },
   "file_extension": ".py",
   "mimetype": "text/x-python",
   "name": "python",
   "nbconvert_exporter": "python",
   "pygments_lexer": "ipython3",
   "version": "3.9.5"
  }
 },
 "nbformat": 4,
 "nbformat_minor": 5
}
