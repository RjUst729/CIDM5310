{
 "cells": [
  {
   "cell_type": "markdown",
   "id": "d4812ef9-58c5-4a4a-8e6b-7129155b89da",
   "metadata": {},
   "source": [
    "#This is my project"
   ]
  },
  {
   "cell_type": "code",
   "execution_count": 1,
   "id": "b878aa36-8853-426c-a4f7-c53b8b6f90c6",
   "metadata": {},
   "outputs": [],
   "source": [
    "import datetime as dt\n",
    "import pandas as pd\n",
    "import requests\n"
   ]
  },
  {
   "cell_type": "markdown",
   "id": "e9411ae6-3536-44ef-a0b6-4837b2a5b022",
   "metadata": {},
   "source": [
    "#Below is code for earthquake data acquisition"
   ]
  },
  {
   "cell_type": "code",
   "execution_count": 2,
   "id": "fee4fce3-f0c3-401e-8f97-f35a4f3d9c7f",
   "metadata": {},
   "outputs": [],
   "source": [
    "yesterday = dt.date.today() - dt.timedelta(days=1)\n",
    "api = 'https://earthquake.usgs.gov/fdsnws/event/1/query'\n",
    "payload = {\n",
    "    'format' : 'geojson',\n",
    "    'starttime' : yesterday - dt.timedelta (days=30),\n",
    "    'endtime' : yesterday\n",
    "}"
   ]
  },
  {
   "cell_type": "code",
   "execution_count": 3,
   "id": "a61e9c77-0112-468c-b7da-ad0b3665133f",
   "metadata": {},
   "outputs": [],
   "source": [
    "response = requests.get(api, params=payload)"
   ]
  },
  {
   "cell_type": "code",
   "execution_count": 4,
   "id": "c82faff7-56fc-44d1-bbe3-362c40ae3733",
   "metadata": {},
   "outputs": [
    {
     "data": {
      "text/plain": [
       "200"
      ]
     },
     "execution_count": 4,
     "metadata": {},
     "output_type": "execute_result"
    }
   ],
   "source": [
    "response.status_code"
   ]
  },
  {
   "cell_type": "code",
   "execution_count": 7,
   "id": "4785ca54-7444-4252-8742-44d3347f86fd",
   "metadata": {},
   "outputs": [
    {
     "data": {
      "text/plain": [
       "dict_keys(['type', 'metadata', 'features', 'bbox'])"
      ]
     },
     "execution_count": 7,
     "metadata": {},
     "output_type": "execute_result"
    }
   ],
   "source": [
    "earthquake_json = response.json()\n",
    "earthquake_json.keys()"
   ]
  },
  {
   "cell_type": "code",
   "execution_count": 8,
   "id": "86bafaa0-0393-4e2a-93e7-c1b252f3bbb0",
   "metadata": {},
   "outputs": [
    {
     "data": {
      "text/plain": [
       "list"
      ]
     },
     "execution_count": 8,
     "metadata": {},
     "output_type": "execute_result"
    }
   ],
   "source": [
    "type(earthquake_json['features'])"
   ]
  },
  {
   "cell_type": "code",
   "execution_count": 9,
   "id": "36bad4c0-fdee-4461-b5db-2bd87054432b",
   "metadata": {},
   "outputs": [
    {
     "data": {
      "text/plain": [
       "{'type': 'Feature',\n",
       " 'properties': {'mag': 0.88,\n",
       "  'place': '8 km NNE of Quinlan, Oklahoma',\n",
       "  'time': 1624319730390,\n",
       "  'updated': 1624377641260,\n",
       "  'tz': None,\n",
       "  'url': 'https://earthquake.usgs.gov/earthquakes/eventpage/ok2021mcgj',\n",
       "  'detail': 'https://earthquake.usgs.gov/fdsnws/event/1/query?eventid=ok2021mcgj&format=geojson',\n",
       "  'felt': None,\n",
       "  'cdi': None,\n",
       "  'mmi': None,\n",
       "  'alert': None,\n",
       "  'status': 'reviewed',\n",
       "  'tsunami': 0,\n",
       "  'sig': 12,\n",
       "  'net': 'ok',\n",
       "  'code': '2021mcgj',\n",
       "  'ids': ',ok2021mcgj,',\n",
       "  'sources': ',ok,',\n",
       "  'types': ',origin,phase-data,',\n",
       "  'nst': 19,\n",
       "  'dmin': 0.0449911712,\n",
       "  'rms': 0.08,\n",
       "  'gap': 150,\n",
       "  'magType': 'ml',\n",
       "  'type': 'earthquake',\n",
       "  'title': 'M 0.9 - 8 km NNE of Quinlan, Oklahoma'},\n",
       " 'geometry': {'type': 'Point',\n",
       "  'coordinates': [-99.00033333, 36.51933333, 7.52]},\n",
       " 'id': 'ok2021mcgj'}"
      ]
     },
     "execution_count": 9,
     "metadata": {},
     "output_type": "execute_result"
    }
   ],
   "source": [
    "earthquake_json['features'][0]"
   ]
  },
  {
   "cell_type": "code",
   "execution_count": 11,
   "id": "77ed5226-ab6d-4b5c-bdbd-9cec3f2d7a62",
   "metadata": {},
   "outputs": [],
   "source": [
    "earthquake_properties_data = [\n",
    "    quake['properties']\n",
    "    for quake in earthquake_json['features']\n",
    "]"
   ]
  },
  {
   "cell_type": "code",
   "execution_count": 12,
   "id": "05066144-a729-4d88-89e1-6c9cb14188a6",
   "metadata": {},
   "outputs": [],
   "source": [
    "df = pd.DataFrame(earthquake_properties_data)"
   ]
  },
  {
   "cell_type": "code",
   "execution_count": 13,
   "id": "7a532f99-1b9f-49d0-b39c-65cda71ba291",
   "metadata": {},
   "outputs": [],
   "source": [
    "import numpy as np\n",
    "import pandas as pd\n",
    "\n",
    "df = pd.read_csv('data/earthquakes.csv')"
   ]
  },
  {
   "cell_type": "code",
   "execution_count": 14,
   "id": "d1b34a3e-f094-4a97-9907-9102893b35d7",
   "metadata": {},
   "outputs": [
    {
     "data": {
      "text/plain": [
       "False"
      ]
     },
     "execution_count": 14,
     "metadata": {},
     "output_type": "execute_result"
    }
   ],
   "source": [
    "df.empty"
   ]
  },
  {
   "cell_type": "markdown",
   "id": "f559879a-b6a2-4c13-a868-74a45b598900",
   "metadata": {},
   "source": [
    "#Below is code for acquisition of weather data"
   ]
  },
  {
   "cell_type": "code",
   "execution_count": null,
   "id": "b91c47fb-619b-4233-9c8e-bd92b02bf0e9",
   "metadata": {},
   "outputs": [],
   "source": [
    "#api_key = os.getenv(\"OPEN_WEATHER_MAP_API_KEY\")\n",
    "#url = \"http://api.openweathermap.org/data/2.5/forecast?lat={0}&lon={1}&appid={2}&units={3}\"\\\n",
    "#      .format(kmsp[0], kmsp[1], api_key,\"imperial\")\n",
    "\n",
    "\n",
    "# call service\n",
    "#service = requests.get(url)\n",
    "#data = service.json()"
   ]
  },
  {
   "cell_type": "markdown",
   "id": "95ddc3e3-0973-43ef-9105-ec89e8775b68",
   "metadata": {},
   "source": [
    "#Below is preliminary code for local crime statistics"
   ]
  },
  {
   "cell_type": "code",
   "execution_count": null,
   "id": "09b51137-5ead-4897-8cea-a3b31f50404c",
   "metadata": {},
   "outputs": [],
   "source": [
    "#yesterday = dt.date.today() - dt.timedelta(days=1)\n",
    "#api = 'https://myserver/arcgis/rest/services/maps/world/MapServer/export?bbox=-197.99999664046,-131.792384313038,197.99999664046,125.388423131397&f=json'\n",
    "#payload = {\n",
    "#    'format': 'geojson',\n",
    "#    'starttime': yesterday - dt.timedelta(days=30),\n",
    "#    'endtime': yesterday\n",
    "#}\n",
    "#response = requests.get(api, params=payload)"
   ]
  }
 ],
 "metadata": {
  "kernelspec": {
   "display_name": "Python 3",
   "language": "python",
   "name": "python3"
  },
  "language_info": {
   "codemirror_mode": {
    "name": "ipython",
    "version": 3
   },
   "file_extension": ".py",
   "mimetype": "text/x-python",
   "name": "python",
   "nbconvert_exporter": "python",
   "pygments_lexer": "ipython3",
   "version": "3.9.5"
  }
 },
 "nbformat": 4,
 "nbformat_minor": 5
}
